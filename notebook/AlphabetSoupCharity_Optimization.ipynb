{
  "cells": [
    {
      "cell_type": "markdown",
      "metadata": {
        "id": "nw7P2PPc__C_"
      },
      "source": [
        " data processing "
      ]
    },
    {
      "cell_type": "code",
      "execution_count": 4,
      "metadata": {
        "id": "sihNDu3m_qsC"
      },
      "outputs": [],
      "source": [
        "# Import our dependencies\n",
        "from sklearn.model_selection import train_test_split\n",
        "from sklearn.preprocessing import StandardScaler\n",
        "import pandas as pd\n",
        "import tensorflow as tf\n"
      ]
    },
    {
      "cell_type": "code",
      "source": [
        "from google.colab import files\n",
        "uploaded = files.upload()"
      ],
      "metadata": {
        "colab": {
          "resources": {
            "http://localhost:8080/nbextensions/google.colab/files.js": {
              "data": "Ly8gQ29weXJpZ2h0IDIwMTcgR29vZ2xlIExMQwovLwovLyBMaWNlbnNlZCB1bmRlciB0aGUgQXBhY2hlIExpY2Vuc2UsIFZlcnNpb24gMi4wICh0aGUgIkxpY2Vuc2UiKTsKLy8geW91IG1heSBub3QgdXNlIHRoaXMgZmlsZSBleGNlcHQgaW4gY29tcGxpYW5jZSB3aXRoIHRoZSBMaWNlbnNlLgovLyBZb3UgbWF5IG9idGFpbiBhIGNvcHkgb2YgdGhlIExpY2Vuc2UgYXQKLy8KLy8gICAgICBodHRwOi8vd3d3LmFwYWNoZS5vcmcvbGljZW5zZXMvTElDRU5TRS0yLjAKLy8KLy8gVW5sZXNzIHJlcXVpcmVkIGJ5IGFwcGxpY2FibGUgbGF3IG9yIGFncmVlZCB0byBpbiB3cml0aW5nLCBzb2Z0d2FyZQovLyBkaXN0cmlidXRlZCB1bmRlciB0aGUgTGljZW5zZSBpcyBkaXN0cmlidXRlZCBvbiBhbiAiQVMgSVMiIEJBU0lTLAovLyBXSVRIT1VUIFdBUlJBTlRJRVMgT1IgQ09ORElUSU9OUyBPRiBBTlkgS0lORCwgZWl0aGVyIGV4cHJlc3Mgb3IgaW1wbGllZC4KLy8gU2VlIHRoZSBMaWNlbnNlIGZvciB0aGUgc3BlY2lmaWMgbGFuZ3VhZ2UgZ292ZXJuaW5nIHBlcm1pc3Npb25zIGFuZAovLyBsaW1pdGF0aW9ucyB1bmRlciB0aGUgTGljZW5zZS4KCi8qKgogKiBAZmlsZW92ZXJ2aWV3IEhlbHBlcnMgZm9yIGdvb2dsZS5jb2xhYiBQeXRob24gbW9kdWxlLgogKi8KKGZ1bmN0aW9uKHNjb3BlKSB7CmZ1bmN0aW9uIHNwYW4odGV4dCwgc3R5bGVBdHRyaWJ1dGVzID0ge30pIHsKICBjb25zdCBlbGVtZW50ID0gZG9jdW1lbnQuY3JlYXRlRWxlbWVudCgnc3BhbicpOwogIGVsZW1lbnQudGV4dENvbnRlbnQgPSB0ZXh0OwogIGZvciAoY29uc3Qga2V5IG9mIE9iamVjdC5rZXlzKHN0eWxlQXR0cmlidXRlcykpIHsKICAgIGVsZW1lbnQuc3R5bGVba2V5XSA9IHN0eWxlQXR0cmlidXRlc1trZXldOwogIH0KICByZXR1cm4gZWxlbWVudDsKfQoKLy8gTWF4IG51bWJlciBvZiBieXRlcyB3aGljaCB3aWxsIGJlIHVwbG9hZGVkIGF0IGEgdGltZS4KY29uc3QgTUFYX1BBWUxPQURfU0laRSA9IDEwMCAqIDEwMjQ7CgpmdW5jdGlvbiBfdXBsb2FkRmlsZXMoaW5wdXRJZCwgb3V0cHV0SWQpIHsKICBjb25zdCBzdGVwcyA9IHVwbG9hZEZpbGVzU3RlcChpbnB1dElkLCBvdXRwdXRJZCk7CiAgY29uc3Qgb3V0cHV0RWxlbWVudCA9IGRvY3VtZW50LmdldEVsZW1lbnRCeUlkKG91dHB1dElkKTsKICAvLyBDYWNoZSBzdGVwcyBvbiB0aGUgb3V0cHV0RWxlbWVudCB0byBtYWtlIGl0IGF2YWlsYWJsZSBmb3IgdGhlIG5leHQgY2FsbAogIC8vIHRvIHVwbG9hZEZpbGVzQ29udGludWUgZnJvbSBQeXRob24uCiAgb3V0cHV0RWxlbWVudC5zdGVwcyA9IHN0ZXBzOwoKICByZXR1cm4gX3VwbG9hZEZpbGVzQ29udGludWUob3V0cHV0SWQpOwp9CgovLyBUaGlzIGlzIHJvdWdobHkgYW4gYXN5bmMgZ2VuZXJhdG9yIChub3Qgc3VwcG9ydGVkIGluIHRoZSBicm93c2VyIHlldCksCi8vIHdoZXJlIHRoZXJlIGFyZSBtdWx0aXBsZSBhc3luY2hyb25vdXMgc3RlcHMgYW5kIHRoZSBQeXRob24gc2lkZSBpcyBnb2luZwovLyB0byBwb2xsIGZvciBjb21wbGV0aW9uIG9mIGVhY2ggc3RlcC4KLy8gVGhpcyB1c2VzIGEgUHJvbWlzZSB0byBibG9jayB0aGUgcHl0aG9uIHNpZGUgb24gY29tcGxldGlvbiBvZiBlYWNoIHN0ZXAsCi8vIHRoZW4gcGFzc2VzIHRoZSByZXN1bHQgb2YgdGhlIHByZXZpb3VzIHN0ZXAgYXMgdGhlIGlucHV0IHRvIHRoZSBuZXh0IHN0ZXAuCmZ1bmN0aW9uIF91cGxvYWRGaWxlc0NvbnRpbnVlKG91dHB1dElkKSB7CiAgY29uc3Qgb3V0cHV0RWxlbWVudCA9IGRvY3VtZW50LmdldEVsZW1lbnRCeUlkKG91dHB1dElkKTsKICBjb25zdCBzdGVwcyA9IG91dHB1dEVsZW1lbnQuc3RlcHM7CgogIGNvbnN0IG5leHQgPSBzdGVwcy5uZXh0KG91dHB1dEVsZW1lbnQubGFzdFByb21pc2VWYWx1ZSk7CiAgcmV0dXJuIFByb21pc2UucmVzb2x2ZShuZXh0LnZhbHVlLnByb21pc2UpLnRoZW4oKHZhbHVlKSA9PiB7CiAgICAvLyBDYWNoZSB0aGUgbGFzdCBwcm9taXNlIHZhbHVlIHRvIG1ha2UgaXQgYXZhaWxhYmxlIHRvIHRoZSBuZXh0CiAgICAvLyBzdGVwIG9mIHRoZSBnZW5lcmF0b3IuCiAgICBvdXRwdXRFbGVtZW50Lmxhc3RQcm9taXNlVmFsdWUgPSB2YWx1ZTsKICAgIHJldHVybiBuZXh0LnZhbHVlLnJlc3BvbnNlOwogIH0pOwp9CgovKioKICogR2VuZXJhdG9yIGZ1bmN0aW9uIHdoaWNoIGlzIGNhbGxlZCBiZXR3ZWVuIGVhY2ggYXN5bmMgc3RlcCBvZiB0aGUgdXBsb2FkCiAqIHByb2Nlc3MuCiAqIEBwYXJhbSB7c3RyaW5nfSBpbnB1dElkIEVsZW1lbnQgSUQgb2YgdGhlIGlucHV0IGZpbGUgcGlja2VyIGVsZW1lbnQuCiAqIEBwYXJhbSB7c3RyaW5nfSBvdXRwdXRJZCBFbGVtZW50IElEIG9mIHRoZSBvdXRwdXQgZGlzcGxheS4KICogQHJldHVybiB7IUl0ZXJhYmxlPCFPYmplY3Q+fSBJdGVyYWJsZSBvZiBuZXh0IHN0ZXBzLgogKi8KZnVuY3Rpb24qIHVwbG9hZEZpbGVzU3RlcChpbnB1dElkLCBvdXRwdXRJZCkgewogIGNvbnN0IGlucHV0RWxlbWVudCA9IGRvY3VtZW50LmdldEVsZW1lbnRCeUlkKGlucHV0SWQpOwogIGlucHV0RWxlbWVudC5kaXNhYmxlZCA9IGZhbHNlOwoKICBjb25zdCBvdXRwdXRFbGVtZW50ID0gZG9jdW1lbnQuZ2V0RWxlbWVudEJ5SWQob3V0cHV0SWQpOwogIG91dHB1dEVsZW1lbnQuaW5uZXJIVE1MID0gJyc7CgogIGNvbnN0IHBpY2tlZFByb21pc2UgPSBuZXcgUHJvbWlzZSgocmVzb2x2ZSkgPT4gewogICAgaW5wdXRFbGVtZW50LmFkZEV2ZW50TGlzdGVuZXIoJ2NoYW5nZScsIChlKSA9PiB7CiAgICAgIHJlc29sdmUoZS50YXJnZXQuZmlsZXMpOwogICAgfSk7CiAgfSk7CgogIGNvbnN0IGNhbmNlbCA9IGRvY3VtZW50LmNyZWF0ZUVsZW1lbnQoJ2J1dHRvbicpOwogIGlucHV0RWxlbWVudC5wYXJlbnRFbGVtZW50LmFwcGVuZENoaWxkKGNhbmNlbCk7CiAgY2FuY2VsLnRleHRDb250ZW50ID0gJ0NhbmNlbCB1cGxvYWQnOwogIGNvbnN0IGNhbmNlbFByb21pc2UgPSBuZXcgUHJvbWlzZSgocmVzb2x2ZSkgPT4gewogICAgY2FuY2VsLm9uY2xpY2sgPSAoKSA9PiB7CiAgICAgIHJlc29sdmUobnVsbCk7CiAgICB9OwogIH0pOwoKICAvLyBXYWl0IGZvciB0aGUgdXNlciB0byBwaWNrIHRoZSBmaWxlcy4KICBjb25zdCBmaWxlcyA9IHlpZWxkIHsKICAgIHByb21pc2U6IFByb21pc2UucmFjZShbcGlja2VkUHJvbWlzZSwgY2FuY2VsUHJvbWlzZV0pLAogICAgcmVzcG9uc2U6IHsKICAgICAgYWN0aW9uOiAnc3RhcnRpbmcnLAogICAgfQogIH07CgogIGNhbmNlbC5yZW1vdmUoKTsKCiAgLy8gRGlzYWJsZSB0aGUgaW5wdXQgZWxlbWVudCBzaW5jZSBmdXJ0aGVyIHBpY2tzIGFyZSBub3QgYWxsb3dlZC4KICBpbnB1dEVsZW1lbnQuZGlzYWJsZWQgPSB0cnVlOwoKICBpZiAoIWZpbGVzKSB7CiAgICByZXR1cm4gewogICAgICByZXNwb25zZTogewogICAgICAgIGFjdGlvbjogJ2NvbXBsZXRlJywKICAgICAgfQogICAgfTsKICB9CgogIGZvciAoY29uc3QgZmlsZSBvZiBmaWxlcykgewogICAgY29uc3QgbGkgPSBkb2N1bWVudC5jcmVhdGVFbGVtZW50KCdsaScpOwogICAgbGkuYXBwZW5kKHNwYW4oZmlsZS5uYW1lLCB7Zm9udFdlaWdodDogJ2JvbGQnfSkpOwogICAgbGkuYXBwZW5kKHNwYW4oCiAgICAgICAgYCgke2ZpbGUudHlwZSB8fCAnbi9hJ30pIC0gJHtmaWxlLnNpemV9IGJ5dGVzLCBgICsKICAgICAgICBgbGFzdCBtb2RpZmllZDogJHsKICAgICAgICAgICAgZmlsZS5sYXN0TW9kaWZpZWREYXRlID8gZmlsZS5sYXN0TW9kaWZpZWREYXRlLnRvTG9jYWxlRGF0ZVN0cmluZygpIDoKICAgICAgICAgICAgICAgICAgICAgICAgICAgICAgICAgICAgJ24vYSd9IC0gYCkpOwogICAgY29uc3QgcGVyY2VudCA9IHNwYW4oJzAlIGRvbmUnKTsKICAgIGxpLmFwcGVuZENoaWxkKHBlcmNlbnQpOwoKICAgIG91dHB1dEVsZW1lbnQuYXBwZW5kQ2hpbGQobGkpOwoKICAgIGNvbnN0IGZpbGVEYXRhUHJvbWlzZSA9IG5ldyBQcm9taXNlKChyZXNvbHZlKSA9PiB7CiAgICAgIGNvbnN0IHJlYWRlciA9IG5ldyBGaWxlUmVhZGVyKCk7CiAgICAgIHJlYWRlci5vbmxvYWQgPSAoZSkgPT4gewogICAgICAgIHJlc29sdmUoZS50YXJnZXQucmVzdWx0KTsKICAgICAgfTsKICAgICAgcmVhZGVyLnJlYWRBc0FycmF5QnVmZmVyKGZpbGUpOwogICAgfSk7CiAgICAvLyBXYWl0IGZvciB0aGUgZGF0YSB0byBiZSByZWFkeS4KICAgIGxldCBmaWxlRGF0YSA9IHlpZWxkIHsKICAgICAgcHJvbWlzZTogZmlsZURhdGFQcm9taXNlLAogICAgICByZXNwb25zZTogewogICAgICAgIGFjdGlvbjogJ2NvbnRpbnVlJywKICAgICAgfQogICAgfTsKCiAgICAvLyBVc2UgYSBjaHVua2VkIHNlbmRpbmcgdG8gYXZvaWQgbWVzc2FnZSBzaXplIGxpbWl0cy4gU2VlIGIvNjIxMTU2NjAuCiAgICBsZXQgcG9zaXRpb24gPSAwOwogICAgZG8gewogICAgICBjb25zdCBsZW5ndGggPSBNYXRoLm1pbihmaWxlRGF0YS5ieXRlTGVuZ3RoIC0gcG9zaXRpb24sIE1BWF9QQVlMT0FEX1NJWkUpOwogICAgICBjb25zdCBjaHVuayA9IG5ldyBVaW50OEFycmF5KGZpbGVEYXRhLCBwb3NpdGlvbiwgbGVuZ3RoKTsKICAgICAgcG9zaXRpb24gKz0gbGVuZ3RoOwoKICAgICAgY29uc3QgYmFzZTY0ID0gYnRvYShTdHJpbmcuZnJvbUNoYXJDb2RlLmFwcGx5KG51bGwsIGNodW5rKSk7CiAgICAgIHlpZWxkIHsKICAgICAgICByZXNwb25zZTogewogICAgICAgICAgYWN0aW9uOiAnYXBwZW5kJywKICAgICAgICAgIGZpbGU6IGZpbGUubmFtZSwKICAgICAgICAgIGRhdGE6IGJhc2U2NCwKICAgICAgICB9LAogICAgICB9OwoKICAgICAgbGV0IHBlcmNlbnREb25lID0gZmlsZURhdGEuYnl0ZUxlbmd0aCA9PT0gMCA/CiAgICAgICAgICAxMDAgOgogICAgICAgICAgTWF0aC5yb3VuZCgocG9zaXRpb24gLyBmaWxlRGF0YS5ieXRlTGVuZ3RoKSAqIDEwMCk7CiAgICAgIHBlcmNlbnQudGV4dENvbnRlbnQgPSBgJHtwZXJjZW50RG9uZX0lIGRvbmVgOwoKICAgIH0gd2hpbGUgKHBvc2l0aW9uIDwgZmlsZURhdGEuYnl0ZUxlbmd0aCk7CiAgfQoKICAvLyBBbGwgZG9uZS4KICB5aWVsZCB7CiAgICByZXNwb25zZTogewogICAgICBhY3Rpb246ICdjb21wbGV0ZScsCiAgICB9CiAgfTsKfQoKc2NvcGUuZ29vZ2xlID0gc2NvcGUuZ29vZ2xlIHx8IHt9OwpzY29wZS5nb29nbGUuY29sYWIgPSBzY29wZS5nb29nbGUuY29sYWIgfHwge307CnNjb3BlLmdvb2dsZS5jb2xhYi5fZmlsZXMgPSB7CiAgX3VwbG9hZEZpbGVzLAogIF91cGxvYWRGaWxlc0NvbnRpbnVlLAp9Owp9KShzZWxmKTsK",
              "ok": true,
              "headers": [
                [
                  "content-type",
                  "application/javascript"
                ]
              ],
              "status": 200,
              "status_text": ""
            }
          },
          "base_uri": "https://localhost:8080/",
          "height": 73
        },
        "id": "NRGPHxQJWBRJ",
        "outputId": "340a3bd1-a6e7-4487-803e-7682c8b6828d"
      },
      "execution_count": 3,
      "outputs": [
        {
          "output_type": "display_data",
          "data": {
            "text/html": [
              "\n",
              "     <input type=\"file\" id=\"files-025e2eff-628a-4b52-8a6a-f81776a1819b\" name=\"files[]\" multiple disabled\n",
              "        style=\"border:none\" />\n",
              "     <output id=\"result-025e2eff-628a-4b52-8a6a-f81776a1819b\">\n",
              "      Upload widget is only available when the cell has been executed in the\n",
              "      current browser session. Please rerun this cell to enable.\n",
              "      </output>\n",
              "      <script src=\"/nbextensions/google.colab/files.js\"></script> "
            ],
            "text/plain": [
              "<IPython.core.display.HTML object>"
            ]
          },
          "metadata": {}
        },
        {
          "output_type": "stream",
          "name": "stdout",
          "text": [
            "Saving charity_data.csv to charity_data.csv\n"
          ]
        }
      ]
    },
    {
      "cell_type": "code",
      "source": [
        "\n",
        "#  Import and read the charity_data.csv.\n",
        "import pandas as pd \n",
        "application_df = pd.read_csv(\"charity_data.csv\")\n",
        "application_df.head()"
      ],
      "metadata": {
        "colab": {
          "base_uri": "https://localhost:8080/",
          "height": 206
        },
        "id": "lIOMcJXxVzOL",
        "outputId": "f484afeb-cd13-4fa3-c1b5-20a7beaada3b"
      },
      "execution_count": 5,
      "outputs": [
        {
          "output_type": "execute_result",
          "data": {
            "text/html": [
              "\n",
              "  <div id=\"df-4f72fc06-9322-4134-a770-be9fbb1a84fc\">\n",
              "    <div class=\"colab-df-container\">\n",
              "      <div>\n",
              "<style scoped>\n",
              "    .dataframe tbody tr th:only-of-type {\n",
              "        vertical-align: middle;\n",
              "    }\n",
              "\n",
              "    .dataframe tbody tr th {\n",
              "        vertical-align: top;\n",
              "    }\n",
              "\n",
              "    .dataframe thead th {\n",
              "        text-align: right;\n",
              "    }\n",
              "</style>\n",
              "<table border=\"1\" class=\"dataframe\">\n",
              "  <thead>\n",
              "    <tr style=\"text-align: right;\">\n",
              "      <th></th>\n",
              "      <th>EIN</th>\n",
              "      <th>NAME</th>\n",
              "      <th>APPLICATION_TYPE</th>\n",
              "      <th>AFFILIATION</th>\n",
              "      <th>CLASSIFICATION</th>\n",
              "      <th>USE_CASE</th>\n",
              "      <th>ORGANIZATION</th>\n",
              "      <th>STATUS</th>\n",
              "      <th>INCOME_AMT</th>\n",
              "      <th>SPECIAL_CONSIDERATIONS</th>\n",
              "      <th>ASK_AMT</th>\n",
              "      <th>IS_SUCCESSFUL</th>\n",
              "    </tr>\n",
              "  </thead>\n",
              "  <tbody>\n",
              "    <tr>\n",
              "      <th>0</th>\n",
              "      <td>10520599</td>\n",
              "      <td>BLUE KNIGHTS MOTORCYCLE CLUB</td>\n",
              "      <td>T10</td>\n",
              "      <td>Independent</td>\n",
              "      <td>C1000</td>\n",
              "      <td>ProductDev</td>\n",
              "      <td>Association</td>\n",
              "      <td>1</td>\n",
              "      <td>0</td>\n",
              "      <td>N</td>\n",
              "      <td>5000</td>\n",
              "      <td>1</td>\n",
              "    </tr>\n",
              "    <tr>\n",
              "      <th>1</th>\n",
              "      <td>10531628</td>\n",
              "      <td>AMERICAN CHESAPEAKE CLUB CHARITABLE TR</td>\n",
              "      <td>T3</td>\n",
              "      <td>Independent</td>\n",
              "      <td>C2000</td>\n",
              "      <td>Preservation</td>\n",
              "      <td>Co-operative</td>\n",
              "      <td>1</td>\n",
              "      <td>1-9999</td>\n",
              "      <td>N</td>\n",
              "      <td>108590</td>\n",
              "      <td>1</td>\n",
              "    </tr>\n",
              "    <tr>\n",
              "      <th>2</th>\n",
              "      <td>10547893</td>\n",
              "      <td>ST CLOUD PROFESSIONAL FIREFIGHTERS</td>\n",
              "      <td>T5</td>\n",
              "      <td>CompanySponsored</td>\n",
              "      <td>C3000</td>\n",
              "      <td>ProductDev</td>\n",
              "      <td>Association</td>\n",
              "      <td>1</td>\n",
              "      <td>0</td>\n",
              "      <td>N</td>\n",
              "      <td>5000</td>\n",
              "      <td>0</td>\n",
              "    </tr>\n",
              "    <tr>\n",
              "      <th>3</th>\n",
              "      <td>10553066</td>\n",
              "      <td>SOUTHSIDE ATHLETIC ASSOCIATION</td>\n",
              "      <td>T3</td>\n",
              "      <td>CompanySponsored</td>\n",
              "      <td>C2000</td>\n",
              "      <td>Preservation</td>\n",
              "      <td>Trust</td>\n",
              "      <td>1</td>\n",
              "      <td>10000-24999</td>\n",
              "      <td>N</td>\n",
              "      <td>6692</td>\n",
              "      <td>1</td>\n",
              "    </tr>\n",
              "    <tr>\n",
              "      <th>4</th>\n",
              "      <td>10556103</td>\n",
              "      <td>GENETIC RESEARCH INSTITUTE OF THE DESERT</td>\n",
              "      <td>T3</td>\n",
              "      <td>Independent</td>\n",
              "      <td>C1000</td>\n",
              "      <td>Heathcare</td>\n",
              "      <td>Trust</td>\n",
              "      <td>1</td>\n",
              "      <td>100000-499999</td>\n",
              "      <td>N</td>\n",
              "      <td>142590</td>\n",
              "      <td>1</td>\n",
              "    </tr>\n",
              "  </tbody>\n",
              "</table>\n",
              "</div>\n",
              "      <button class=\"colab-df-convert\" onclick=\"convertToInteractive('df-4f72fc06-9322-4134-a770-be9fbb1a84fc')\"\n",
              "              title=\"Convert this dataframe to an interactive table.\"\n",
              "              style=\"display:none;\">\n",
              "        \n",
              "  <svg xmlns=\"http://www.w3.org/2000/svg\" height=\"24px\"viewBox=\"0 0 24 24\"\n",
              "       width=\"24px\">\n",
              "    <path d=\"M0 0h24v24H0V0z\" fill=\"none\"/>\n",
              "    <path d=\"M18.56 5.44l.94 2.06.94-2.06 2.06-.94-2.06-.94-.94-2.06-.94 2.06-2.06.94zm-11 1L8.5 8.5l.94-2.06 2.06-.94-2.06-.94L8.5 2.5l-.94 2.06-2.06.94zm10 10l.94 2.06.94-2.06 2.06-.94-2.06-.94-.94-2.06-.94 2.06-2.06.94z\"/><path d=\"M17.41 7.96l-1.37-1.37c-.4-.4-.92-.59-1.43-.59-.52 0-1.04.2-1.43.59L10.3 9.45l-7.72 7.72c-.78.78-.78 2.05 0 2.83L4 21.41c.39.39.9.59 1.41.59.51 0 1.02-.2 1.41-.59l7.78-7.78 2.81-2.81c.8-.78.8-2.07 0-2.86zM5.41 20L4 18.59l7.72-7.72 1.47 1.35L5.41 20z\"/>\n",
              "  </svg>\n",
              "      </button>\n",
              "      \n",
              "  <style>\n",
              "    .colab-df-container {\n",
              "      display:flex;\n",
              "      flex-wrap:wrap;\n",
              "      gap: 12px;\n",
              "    }\n",
              "\n",
              "    .colab-df-convert {\n",
              "      background-color: #E8F0FE;\n",
              "      border: none;\n",
              "      border-radius: 50%;\n",
              "      cursor: pointer;\n",
              "      display: none;\n",
              "      fill: #1967D2;\n",
              "      height: 32px;\n",
              "      padding: 0 0 0 0;\n",
              "      width: 32px;\n",
              "    }\n",
              "\n",
              "    .colab-df-convert:hover {\n",
              "      background-color: #E2EBFA;\n",
              "      box-shadow: 0px 1px 2px rgba(60, 64, 67, 0.3), 0px 1px 3px 1px rgba(60, 64, 67, 0.15);\n",
              "      fill: #174EA6;\n",
              "    }\n",
              "\n",
              "    [theme=dark] .colab-df-convert {\n",
              "      background-color: #3B4455;\n",
              "      fill: #D2E3FC;\n",
              "    }\n",
              "\n",
              "    [theme=dark] .colab-df-convert:hover {\n",
              "      background-color: #434B5C;\n",
              "      box-shadow: 0px 1px 3px 1px rgba(0, 0, 0, 0.15);\n",
              "      filter: drop-shadow(0px 1px 2px rgba(0, 0, 0, 0.3));\n",
              "      fill: #FFFFFF;\n",
              "    }\n",
              "  </style>\n",
              "\n",
              "      <script>\n",
              "        const buttonEl =\n",
              "          document.querySelector('#df-4f72fc06-9322-4134-a770-be9fbb1a84fc button.colab-df-convert');\n",
              "        buttonEl.style.display =\n",
              "          google.colab.kernel.accessAllowed ? 'block' : 'none';\n",
              "\n",
              "        async function convertToInteractive(key) {\n",
              "          const element = document.querySelector('#df-4f72fc06-9322-4134-a770-be9fbb1a84fc');\n",
              "          const dataTable =\n",
              "            await google.colab.kernel.invokeFunction('convertToInteractive',\n",
              "                                                     [key], {});\n",
              "          if (!dataTable) return;\n",
              "\n",
              "          const docLinkHtml = 'Like what you see? Visit the ' +\n",
              "            '<a target=\"_blank\" href=https://colab.research.google.com/notebooks/data_table.ipynb>data table notebook</a>'\n",
              "            + ' to learn more about interactive tables.';\n",
              "          element.innerHTML = '';\n",
              "          dataTable['output_type'] = 'display_data';\n",
              "          await google.colab.output.renderOutput(dataTable, element);\n",
              "          const docLink = document.createElement('div');\n",
              "          docLink.innerHTML = docLinkHtml;\n",
              "          element.appendChild(docLink);\n",
              "        }\n",
              "      </script>\n",
              "    </div>\n",
              "  </div>\n",
              "  "
            ],
            "text/plain": [
              "        EIN                                      NAME  ... ASK_AMT IS_SUCCESSFUL\n",
              "0  10520599              BLUE KNIGHTS MOTORCYCLE CLUB  ...    5000             1\n",
              "1  10531628    AMERICAN CHESAPEAKE CLUB CHARITABLE TR  ...  108590             1\n",
              "2  10547893        ST CLOUD PROFESSIONAL FIREFIGHTERS  ...    5000             0\n",
              "3  10553066            SOUTHSIDE ATHLETIC ASSOCIATION  ...    6692             1\n",
              "4  10556103  GENETIC RESEARCH INSTITUTE OF THE DESERT  ...  142590             1\n",
              "\n",
              "[5 rows x 12 columns]"
            ]
          },
          "metadata": {},
          "execution_count": 5
        }
      ]
    },
    {
      "cell_type": "code",
      "source": [
        "application_df.shape"
      ],
      "metadata": {
        "colab": {
          "base_uri": "https://localhost:8080/"
        },
        "id": "OZq5PU9zWSpG",
        "outputId": "4a0c24d3-6074-4e8a-8533-370ffd0439c9"
      },
      "execution_count": 6,
      "outputs": [
        {
          "output_type": "execute_result",
          "data": {
            "text/plain": [
              "(34299, 12)"
            ]
          },
          "metadata": {},
          "execution_count": 6
        }
      ]
    },
    {
      "cell_type": "code",
      "execution_count": 7,
      "metadata": {
        "id": "6ffk1ZZi_7kw"
      },
      "outputs": [],
      "source": [
        "# Drop the non-beneficial ID columns, 'EIN' and 'NAME'.\n",
        "application_df = application_df.drop([\"EIN\", \"NAME\"], axis=1)\n",
        "\n",
        "# Choose a cutoff value and create a list of application types to be replaced\n",
        "# use the variable name `application_types_to_replace`\n",
        "\n",
        "# All application types with less than 500 applications \n",
        "application_types_to_replace = ['T17', 'T29', 'T15', 'T25', 'T14', 'T2', 'T12', 'T13', 'T9']\n",
        "\n",
        "# Replace in dataframe\n",
        "for app in application_types_to_replace:\n",
        "    application_df['APPLICATION_TYPE'] = application_df['APPLICATION_TYPE'].replace(app,\"Other\")\n",
        "\n",
        "# Choose a cutoff value and create a list of classifications to be replaced\n",
        "# use the variable name `classifications_to_replace`\n",
        "\n",
        "# All classifications less than 100\n",
        "val_counts = application_df['CLASSIFICATION'].value_counts()\n",
        "classifications_to_replace = val_counts.loc[val_counts < 100].index\n",
        "\n",
        "# Replace in dataframe\n",
        "for cls in classifications_to_replace:\n",
        "    application_df['CLASSIFICATION'] = application_df['CLASSIFICATION'].replace(cls,\"Other\")\n",
        "\n",
        "# Convert categorical data to numeric with `pd.get_dummies`\n",
        "app_dummies = pd.get_dummies(application_df)\n",
        "\n",
        "# Split our preprocessed data into our features and target arrays\n",
        "target = app_dummies['IS_SUCCESSFUL']\n",
        "app_dummies = app_dummies.drop('IS_SUCCESSFUL', axis=1)\n",
        "\n",
        "# Split the preprocessed data into a training and testing dataset\n",
        "(X_train, X_test, y_train, y_test) = train_test_split(app_dummies, target, random_state=76)\n",
        "\n",
        "# Create a StandardScaler instances\n",
        "scaler = StandardScaler()\n",
        "\n",
        "# Fit the StandardScaler\n",
        "X_scaler = scaler.fit(X_train)\n",
        "\n",
        "# Scale the data\n",
        "X_train_scaled = X_scaler.transform(X_train)\n",
        "X_test_scaled = X_scaler.transform(X_test)"
      ]
    },
    {
      "cell_type": "markdown",
      "metadata": {
        "id": "_oU_G1UxA71Z"
      },
      "source": [
        " Adjusting model structure"
      ]
    },
    {
      "cell_type": "code",
      "execution_count": 8,
      "metadata": {
        "colab": {
          "base_uri": "https://localhost:8080/"
        },
        "id": "3cmmITh0BA4x",
        "outputId": "e6e29f22-e309-40aa-c89c-1745097c6ae2"
      },
      "outputs": [
        {
          "output_type": "stream",
          "name": "stdout",
          "text": [
            "Model: \"sequential\"\n",
            "_________________________________________________________________\n",
            " Layer (type)                Output Shape              Param #   \n",
            "=================================================================\n",
            " dense (Dense)               (None, 15)                750       \n",
            "                                                                 \n",
            " dense_1 (Dense)             (None, 10)                160       \n",
            "                                                                 \n",
            " dense_2 (Dense)             (None, 1)                 11        \n",
            "                                                                 \n",
            "=================================================================\n",
            "Total params: 921\n",
            "Trainable params: 921\n",
            "Non-trainable params: 0\n",
            "_________________________________________________________________\n"
          ]
        }
      ],
      "source": [
        "# Define the model - deep neural net, i.e., the number of input features and hidden nodes for each layer.\n",
        "\n",
        "nn1 = tf.keras.models.Sequential()\n",
        "\n",
        "# First hidden layer\n",
        "nn1.add(tf.keras.layers.Dense(units=15, activation=\"relu\", input_dim=49))\n",
        "\n",
        "# Second hidden layer\n",
        "nn1.add(tf.keras.layers.Dense(units=10, activation=\"relu\"))\n",
        "\n",
        "# Output layer\n",
        "nn1.add(tf.keras.layers.Dense(units=1, activation=\"sigmoid\"))\n",
        "\n",
        "# Check the structure of the model\n",
        "nn1.summary()"
      ]
    },
    {
      "cell_type": "code",
      "execution_count": 9,
      "metadata": {
        "colab": {
          "base_uri": "https://localhost:8080/"
        },
        "id": "bx_ckVwtBKyf",
        "outputId": "559d3edf-dbf4-4c48-a0b9-d53ea7f16a0d"
      },
      "outputs": [
        {
          "output_type": "stream",
          "name": "stdout",
          "text": [
            "Epoch 1/20\n",
            "804/804 [==============================] - 3s 2ms/step - loss: 0.5984 - accuracy: 0.7023 - auc: 0.7438\n",
            "Epoch 2/20\n",
            "804/804 [==============================] - 2s 2ms/step - loss: 0.5556 - accuracy: 0.7287 - auc: 0.7817\n",
            "Epoch 3/20\n",
            "804/804 [==============================] - 2s 2ms/step - loss: 0.5514 - accuracy: 0.7290 - auc: 0.7857\n",
            "Epoch 4/20\n",
            "804/804 [==============================] - 2s 2ms/step - loss: 0.5495 - accuracy: 0.7305 - auc: 0.7872\n",
            "Epoch 5/20\n",
            "804/804 [==============================] - 2s 2ms/step - loss: 0.5485 - accuracy: 0.7293 - auc: 0.7873\n",
            "Epoch 6/20\n",
            "804/804 [==============================] - 2s 2ms/step - loss: 0.5474 - accuracy: 0.7310 - auc: 0.7886\n",
            "Epoch 7/20\n",
            "804/804 [==============================] - 2s 2ms/step - loss: 0.5466 - accuracy: 0.7313 - auc: 0.7893\n",
            "Epoch 8/20\n",
            "804/804 [==============================] - 2s 2ms/step - loss: 0.5459 - accuracy: 0.7317 - auc: 0.7899\n",
            "Epoch 9/20\n",
            "804/804 [==============================] - 2s 2ms/step - loss: 0.5456 - accuracy: 0.7309 - auc: 0.7901\n",
            "Epoch 10/20\n",
            "804/804 [==============================] - 2s 2ms/step - loss: 0.5446 - accuracy: 0.7319 - auc: 0.7912\n",
            "Epoch 11/20\n",
            "804/804 [==============================] - 2s 2ms/step - loss: 0.5444 - accuracy: 0.7325 - auc: 0.7916\n",
            "Epoch 12/20\n",
            "804/804 [==============================] - 2s 2ms/step - loss: 0.5440 - accuracy: 0.7336 - auc: 0.7917\n",
            "Epoch 13/20\n",
            "804/804 [==============================] - 2s 2ms/step - loss: 0.5433 - accuracy: 0.7348 - auc: 0.7927\n",
            "Epoch 14/20\n",
            "804/804 [==============================] - 2s 2ms/step - loss: 0.5428 - accuracy: 0.7340 - auc: 0.7921\n",
            "Epoch 15/20\n",
            "804/804 [==============================] - 2s 2ms/step - loss: 0.5428 - accuracy: 0.7322 - auc: 0.7928\n",
            "Epoch 16/20\n",
            "804/804 [==============================] - 2s 2ms/step - loss: 0.5426 - accuracy: 0.7339 - auc: 0.7924\n",
            "Epoch 17/20\n",
            "804/804 [==============================] - 2s 2ms/step - loss: 0.5422 - accuracy: 0.7343 - auc: 0.7929\n",
            "Epoch 18/20\n",
            "804/804 [==============================] - 2s 2ms/step - loss: 0.5415 - accuracy: 0.7350 - auc: 0.7938\n",
            "Epoch 19/20\n",
            "804/804 [==============================] - 2s 2ms/step - loss: 0.5415 - accuracy: 0.7351 - auc: 0.7933\n",
            "Epoch 20/20\n",
            "804/804 [==============================] - 2s 2ms/step - loss: 0.5414 - accuracy: 0.7357 - auc: 0.7936\n"
          ]
        }
      ],
      "source": [
        "# Compile the model\n",
        "nn1.compile(loss=\"binary_crossentropy\", optimizer=\"adam\", metrics=[\"accuracy\", \"AUC\"],steps_per_execution=None)\n",
        "# Train the model\n",
        "fit_output = nn1.fit(X_train_scaled, y_train, epochs=20)"
      ]
    },
    {
      "cell_type": "code",
      "execution_count": 10,
      "metadata": {
        "colab": {
          "base_uri": "https://localhost:8080/"
        },
        "id": "Va8PbT44LCUh",
        "outputId": "6da4bc99-f644-4d4a-8f6a-2bc873d0a36b"
      },
      "outputs": [
        {
          "output_type": "stream",
          "name": "stdout",
          "text": [
            "268/268 - 1s - loss: 0.5585 - accuracy: 0.7247 - auc: 0.7811 - 594ms/epoch - 2ms/step\n",
            "Loss: 0.5585076212882996, Accuracy: 0.7246647477149963, AUC: 0.781107485294342\n"
          ]
        }
      ],
      "source": [
        "# Evaluate the model using the test data\n",
        "model_loss, model_accuracy, model_AUC = nn1.evaluate(X_test_scaled,y_test,verbose=2)\n",
        "print(f\"Loss: {model_loss}, Accuracy: {model_accuracy}, AUC: {model_AUC}\")"
      ]
    },
    {
      "cell_type": "markdown",
      "metadata": {
        "id": "D5FAhvhgC5m_"
      },
      "source": [
        "Autotuning"
      ]
    },
    {
      "cell_type": "code",
      "execution_count": 11,
      "metadata": {
        "id": "NY7csOIwC4b2"
      },
      "outputs": [],
      "source": [
        "# Create a method that creates a new Sequential model with hyperparameter options\n",
        "def create_model(hp):\n",
        "    nn2 = tf.keras.models.Sequential()\n",
        "\n",
        "    # Allow kerastuner to decide which activation function to use in hidden layers\n",
        "    activation = hp.Choice('activation',['relu','tanh','sigmoid'])\n",
        "    \n",
        "    # Allow kerastuner to decide number of neurons in first layer\n",
        "    units_param = hp.Int('first_units', min_value=1, max_value=10, step=2)\n",
        "    nn2.add(tf.keras.layers.Dense(units=units_param, activation=activation, input_dim=49))\n",
        "\n",
        "    # Allow kerastuner to decide number of hidden layers and neurons in hidden layers\n",
        "    for i in range(hp.Int('num_layers', 1, 6)):\n",
        "      units_param = hp.Int('units_'+ str(i), min_value=1, max_value=10, step=2)\n",
        "      nn2.add(tf.keras.layers.Dense(units=units_param, activation=activation))\n",
        "\n",
        "    # Add output layer\n",
        "    nn2.add(tf.keras.layers.Dense(units=1, activation=\"sigmoid\"))\n",
        "\n",
        "    # Compile the model\n",
        "    nn2.compile(loss=\"binary_crossentropy\", optimizer='adam', metrics=[\"accuracy\"])\n",
        "    \n",
        "    return nn2"
      ]
    },
    {
      "cell_type": "code",
      "execution_count": null,
      "metadata": {
        "id": "3C-IhQmxDbMQ"
      },
      "outputs": [],
      "source": [
        "!pip install keras-tuner"
      ]
    },
    {
      "cell_type": "code",
      "execution_count": 13,
      "metadata": {
        "id": "q8mxXB6QDDr4"
      },
      "outputs": [],
      "source": [
        "# Define tuner\n",
        "import keras_tuner as kt\n",
        "tuner = kt.Hyperband(\n",
        "    create_model,\n",
        "    objective=\"val_accuracy\",\n",
        "    max_epochs=20,\n",
        "    hyperband_iterations=2)"
      ]
    },
    {
      "cell_type": "code",
      "execution_count": 14,
      "metadata": {
        "colab": {
          "base_uri": "https://localhost:8080/"
        },
        "id": "d9fXvuMbDJ34",
        "outputId": "7808dc69-918f-4151-fdf3-b7ab72f229b2"
      },
      "outputs": [
        {
          "output_type": "stream",
          "name": "stdout",
          "text": [
            "Trial 60 Complete [00h 00m 45s]\n",
            "val_accuracy: 0.713469386100769\n",
            "\n",
            "Best val_accuracy So Far: 0.728396475315094\n",
            "Total elapsed time: 00h 20m 43s\n",
            "INFO:tensorflow:Oracle triggered exit\n"
          ]
        }
      ],
      "source": [
        "# Run the kerastuner search for best hyperparameters\n",
        "tuner.search(X_train_scaled, y_train, epochs=20, validation_data=(X_test_scaled,y_test))"
      ]
    },
    {
      "cell_type": "code",
      "execution_count": 15,
      "metadata": {
        "colab": {
          "base_uri": "https://localhost:8080/"
        },
        "id": "5hZ2p96AJJXI",
        "outputId": "aaa430b8-971f-4b60-9a62-dc083b50a573"
      },
      "outputs": [
        {
          "output_type": "execute_result",
          "data": {
            "text/plain": [
              "{'activation': 'tanh',\n",
              " 'first_units': 7,\n",
              " 'num_layers': 2,\n",
              " 'tuner/bracket': 0,\n",
              " 'tuner/epochs': 20,\n",
              " 'tuner/initial_epoch': 0,\n",
              " 'tuner/round': 0,\n",
              " 'units_0': 9,\n",
              " 'units_1': 1,\n",
              " 'units_2': 9,\n",
              " 'units_3': 7,\n",
              " 'units_4': 7,\n",
              " 'units_5': 1}"
            ]
          },
          "metadata": {},
          "execution_count": 15
        }
      ],
      "source": [
        "# Get best model hyperparameters\n",
        "best_hyper = tuner.get_best_hyperparameters(1)[0]\n",
        "best_hyper.values\n"
      ]
    },
    {
      "cell_type": "code",
      "execution_count": 16,
      "metadata": {
        "colab": {
          "base_uri": "https://localhost:8080/"
        },
        "id": "Ch22shqDCRBe",
        "outputId": "4f8f7f44-67fd-4168-d72b-16e2e4185897"
      },
      "outputs": [
        {
          "output_type": "stream",
          "name": "stdout",
          "text": [
            "Model: \"sequential_1\"\n",
            "_________________________________________________________________\n",
            " Layer (type)                Output Shape              Param #   \n",
            "=================================================================\n",
            " dense_8 (Dense)             (None, 7)                 350       \n",
            "                                                                 \n",
            " dense_9 (Dense)             (None, 9)                 72        \n",
            "                                                                 \n",
            " dense_10 (Dense)            (None, 7)                 70        \n",
            "                                                                 \n",
            " dense_11 (Dense)            (None, 7)                 56        \n",
            "                                                                 \n",
            " dense_12 (Dense)            (None, 9)                 72        \n",
            "                                                                 \n",
            " dense_13 (Dense)            (None, 1)                 10        \n",
            "                                                                 \n",
            "=================================================================\n",
            "Total params: 630\n",
            "Trainable params: 630\n",
            "Non-trainable params: 0\n",
            "_________________________________________________________________\n"
          ]
        }
      ],
      "source": [
        "# Define the model - deep neural net, i.e., the number of input features and hidden nodes for each layer.\n",
        "nn2 = tf.keras.models.Sequential()\n",
        "\n",
        "# First hidden layer\n",
        "nn2.add(tf.keras.layers.Dense(units=7, activation=\"sigmoid\", input_dim=49))\n",
        "\n",
        "# Second hidden layer\n",
        "nn2.add(tf.keras.layers.Dense(units=9, activation=\"sigmoid\"))\n",
        "nn2.add(tf.keras.layers.Dense(units=7, activation=\"sigmoid\"))\n",
        "nn2.add(tf.keras.layers.Dense(units=7, activation=\"sigmoid\"))\n",
        "nn2.add(tf.keras.layers.Dense(units=9, activation=\"sigmoid\"))\n",
        "\n",
        "# Output layer\n",
        "nn2.add(tf.keras.layers.Dense(units=1, activation=\"sigmoid\"))\n",
        "\n",
        "# Check the structure of the model\n",
        "nn2.summary()"
      ]
    },
    {
      "cell_type": "code",
      "execution_count": 17,
      "metadata": {
        "colab": {
          "base_uri": "https://localhost:8080/"
        },
        "id": "9MWwPioICkz0",
        "outputId": "7c8fa833-d76b-4f64-bad1-32fc0f4bd9b1"
      },
      "outputs": [
        {
          "output_type": "stream",
          "name": "stdout",
          "text": [
            "Epoch 1/20\n",
            "804/804 [==============================] - 3s 3ms/step - loss: 0.6783 - accuracy: 0.5719 - auc: 0.6324\n",
            "Epoch 2/20\n",
            "804/804 [==============================] - 2s 2ms/step - loss: 0.5817 - accuracy: 0.7295 - auc: 0.7431\n",
            "Epoch 3/20\n",
            "804/804 [==============================] - 4s 5ms/step - loss: 0.5742 - accuracy: 0.7313 - auc: 0.7545\n",
            "Epoch 4/20\n",
            "804/804 [==============================] - 4s 5ms/step - loss: 0.5730 - accuracy: 0.7315 - auc: 0.7560\n",
            "Epoch 5/20\n",
            "804/804 [==============================] - 4s 5ms/step - loss: 0.5725 - accuracy: 0.7316 - auc: 0.7557\n",
            "Epoch 6/20\n",
            "804/804 [==============================] - 4s 5ms/step - loss: 0.5723 - accuracy: 0.7309 - auc: 0.7579\n",
            "Epoch 7/20\n",
            "804/804 [==============================] - 4s 5ms/step - loss: 0.5720 - accuracy: 0.7317 - auc: 0.7569\n",
            "Epoch 8/20\n",
            "804/804 [==============================] - 4s 5ms/step - loss: 0.5717 - accuracy: 0.7316 - auc: 0.7586\n",
            "Epoch 9/20\n",
            "804/804 [==============================] - 3s 3ms/step - loss: 0.5714 - accuracy: 0.7318 - auc: 0.7584\n",
            "Epoch 10/20\n",
            "804/804 [==============================] - 2s 2ms/step - loss: 0.5712 - accuracy: 0.7316 - auc: 0.7597\n",
            "Epoch 11/20\n",
            "804/804 [==============================] - 2s 2ms/step - loss: 0.5707 - accuracy: 0.7320 - auc: 0.7601\n",
            "Epoch 12/20\n",
            "804/804 [==============================] - 2s 2ms/step - loss: 0.5705 - accuracy: 0.7322 - auc: 0.7614\n",
            "Epoch 13/20\n",
            "804/804 [==============================] - 2s 2ms/step - loss: 0.5701 - accuracy: 0.7314 - auc: 0.7612\n",
            "Epoch 14/20\n",
            "804/804 [==============================] - 2s 2ms/step - loss: 0.5697 - accuracy: 0.7319 - auc: 0.7611\n",
            "Epoch 15/20\n",
            "804/804 [==============================] - 2s 2ms/step - loss: 0.5693 - accuracy: 0.7324 - auc: 0.7626\n",
            "Epoch 16/20\n",
            "804/804 [==============================] - 2s 2ms/step - loss: 0.5690 - accuracy: 0.7330 - auc: 0.7625\n",
            "Epoch 17/20\n",
            "804/804 [==============================] - 2s 2ms/step - loss: 0.5684 - accuracy: 0.7326 - auc: 0.7648\n",
            "Epoch 18/20\n",
            "804/804 [==============================] - 2s 2ms/step - loss: 0.5682 - accuracy: 0.7325 - auc: 0.7647\n",
            "Epoch 19/20\n",
            "804/804 [==============================] - 2s 2ms/step - loss: 0.5679 - accuracy: 0.7332 - auc: 0.7653\n",
            "Epoch 20/20\n",
            "804/804 [==============================] - 2s 2ms/step - loss: 0.5676 - accuracy: 0.7327 - auc: 0.7663\n"
          ]
        }
      ],
      "source": [
        "# Compile the model\n",
        "nn2.compile(loss=\"binary_crossentropy\", optimizer=\"adam\", metrics=[\"accuracy\", \"AUC\"],steps_per_execution=None)\n",
        "# Train the model\n",
        "fit_output = nn2.fit(X_train_scaled, y_train, epochs=20)"
      ]
    },
    {
      "cell_type": "code",
      "execution_count": 18,
      "metadata": {
        "colab": {
          "base_uri": "https://localhost:8080/"
        },
        "id": "-X_uzIB1K_uf",
        "outputId": "81567b26-f6d0-426e-d0d9-27902c81dab8"
      },
      "outputs": [
        {
          "output_type": "stream",
          "name": "stdout",
          "text": [
            "268/268 - 1s - loss: 0.5739 - accuracy: 0.7259 - auc: 0.7618 - 608ms/epoch - 2ms/step\n",
            "Loss: 0.5739039182662964, Accuracy: 0.7259474992752075, AUC: 0.761808454990387\n"
          ]
        }
      ],
      "source": [
        "# Evaluate the model using the test data\n",
        "model_loss, model_accuracy, model_AUC = nn2a.evaluate(X_test_scaled,y_test,verbose=2)\n",
        "print(f\"Loss: {model_loss}, Accuracy: {model_accuracy}, AUC: {model_AUC}\")"
      ]
    },
    {
      "cell_type": "markdown",
      "metadata": {
        "id": "lpDgSQQlBfcQ"
      },
      "source": [
        " Adjust input data"
      ]
    },
    {
      "cell_type": "code",
      "execution_count": 19,
      "metadata": {
        "id": "u26HteLSBefw"
      },
      "outputs": [],
      "source": [
        "# Remove columns ORGANIZATION, STATUS\n",
        "# Change Other Classification to all values less than 500\n",
        "classifications_to_replace = val_counts.loc[val_counts < 500].index\n",
        "\n",
        "# Replace in dataframe\n",
        "for cls in classifications_to_replace:\n",
        "    application_df['CLASSIFICATION'] = application_df['CLASSIFICATION'].replace(cls,\"Other\")\n",
        "\n",
        "# Remove columns ORGANIZATION, STATUS\n",
        "application_df_2 = application_df.drop(['ORGANIZATION', 'STATUS'], axis=1)\n",
        "\n"
      ]
    },
    {
      "cell_type": "code",
      "execution_count": 20,
      "metadata": {
        "id": "GQqb_B-3L-kZ"
      },
      "outputs": [],
      "source": [
        "# Convert categorical data to numeric with `pd.get_dummies`\n",
        "app_dummies_2 = pd.get_dummies(application_df_2)\n",
        "\n",
        "# Split our preprocessed data into our features and target arrays\n",
        "target = app_dummies_2['IS_SUCCESSFUL']\n",
        "app_dummies_2 = app_dummies_2.drop('IS_SUCCESSFUL', axis=1)\n",
        "\n",
        "# Split the preprocessed data into a training and testing dataset\n",
        "(X_train_2, X_test_2, y_train_2, y_test_2) = train_test_split(app_dummies_2, target, random_state=76)\n",
        "\n",
        "# Create a StandardScaler instances\n",
        "scaler = StandardScaler()\n",
        "\n",
        "# Fit the StandardScaler\n",
        "X_scaler_2 = scaler.fit(X_train_2)\n",
        "\n",
        "# Scale the data\n",
        "X_train_scaled_2 = X_scaler_2.transform(X_train_2)\n",
        "X_test_scaled_2 = X_scaler_2.transform(X_test_2)"
      ]
    },
    {
      "cell_type": "code",
      "execution_count": 21,
      "metadata": {
        "colab": {
          "base_uri": "https://localhost:8080/"
        },
        "id": "ZfiBtiqkMv5F",
        "outputId": "e3c3fc59-ee4d-4b07-b390-1ecb9f39d3d7"
      },
      "outputs": [
        {
          "output_type": "stream",
          "name": "stdout",
          "text": [
            "Model: \"sequential_2\"\n",
            "_________________________________________________________________\n",
            " Layer (type)                Output Shape              Param #   \n",
            "=================================================================\n",
            " dense_14 (Dense)            (None, 7)                 280       \n",
            "                                                                 \n",
            " dense_15 (Dense)            (None, 9)                 72        \n",
            "                                                                 \n",
            " dense_16 (Dense)            (None, 7)                 70        \n",
            "                                                                 \n",
            " dense_17 (Dense)            (None, 7)                 56        \n",
            "                                                                 \n",
            " dense_18 (Dense)            (None, 9)                 72        \n",
            "                                                                 \n",
            " dense_19 (Dense)            (None, 1)                 10        \n",
            "                                                                 \n",
            "=================================================================\n",
            "Total params: 560\n",
            "Trainable params: 560\n",
            "Non-trainable params: 0\n",
            "_________________________________________________________________\n"
          ]
        }
      ],
      "source": [
        "# Define the model - deep neural net, i.e., the number of input features and hidden nodes for each layer.\n",
        "nn3 = tf.keras.models.Sequential()\n",
        "\n",
        "# First hidden layer\n",
        "nn3.add(tf.keras.layers.Dense(units=7, activation=\"sigmoid\", input_dim=39))\n",
        "\n",
        "# Second hidden layer\n",
        "nn3.add(tf.keras.layers.Dense(units=9, activation=\"sigmoid\"))\n",
        "nn3.add(tf.keras.layers.Dense(units=7, activation=\"sigmoid\"))\n",
        "nn3.add(tf.keras.layers.Dense(units=7, activation=\"sigmoid\"))\n",
        "nn3.add(tf.keras.layers.Dense(units=9, activation=\"sigmoid\"))\n",
        "\n",
        "# Output layer\n",
        "nn3.add(tf.keras.layers.Dense(units=1, activation=\"sigmoid\"))\n",
        "\n",
        "# Check the structure of the model\n",
        "nn3.summary()"
      ]
    },
    {
      "cell_type": "code",
      "execution_count": 22,
      "metadata": {
        "id": "D1gh5bs6Napw"
      },
      "outputs": [],
      "source": [
        "# Compile the model\n",
        "nn3.compile(loss=\"binary_crossentropy\", optimizer=\"adam\", metrics=[\"accuracy\", \"AUC\"],steps_per_execution=None)"
      ]
    },
    {
      "cell_type": "code",
      "execution_count": 23,
      "metadata": {
        "colab": {
          "base_uri": "https://localhost:8080/"
        },
        "id": "diVKubBKNkk3",
        "outputId": "0e8f299c-4121-4a4d-f4ab-12e2f4f3e8d4"
      },
      "outputs": [
        {
          "output_type": "stream",
          "name": "stdout",
          "text": [
            "Epoch 1/20\n",
            "804/804 [==============================] - 3s 2ms/step - loss: 0.6821 - accuracy: 0.5620 - auc: 0.6184\n",
            "Epoch 2/20\n",
            "804/804 [==============================] - 2s 2ms/step - loss: 0.5874 - accuracy: 0.7262 - auc: 0.7341\n",
            "Epoch 3/20\n",
            "804/804 [==============================] - 2s 2ms/step - loss: 0.5803 - accuracy: 0.7264 - auc: 0.7458\n",
            "Epoch 4/20\n",
            "804/804 [==============================] - 2s 2ms/step - loss: 0.5795 - accuracy: 0.7273 - auc: 0.7480\n",
            "Epoch 5/20\n",
            "804/804 [==============================] - 2s 2ms/step - loss: 0.5790 - accuracy: 0.7271 - auc: 0.7491\n",
            "Epoch 6/20\n",
            "804/804 [==============================] - 2s 2ms/step - loss: 0.5784 - accuracy: 0.7261 - auc: 0.7504\n",
            "Epoch 7/20\n",
            "804/804 [==============================] - 2s 2ms/step - loss: 0.5778 - accuracy: 0.7254 - auc: 0.7528\n",
            "Epoch 8/20\n",
            "804/804 [==============================] - 2s 2ms/step - loss: 0.5771 - accuracy: 0.7276 - auc: 0.7528\n",
            "Epoch 9/20\n",
            "804/804 [==============================] - 2s 2ms/step - loss: 0.5768 - accuracy: 0.7267 - auc: 0.7529\n",
            "Epoch 10/20\n",
            "804/804 [==============================] - 2s 2ms/step - loss: 0.5765 - accuracy: 0.7266 - auc: 0.7538\n",
            "Epoch 11/20\n",
            "804/804 [==============================] - 2s 2ms/step - loss: 0.5763 - accuracy: 0.7267 - auc: 0.7531\n",
            "Epoch 12/20\n",
            "804/804 [==============================] - 2s 2ms/step - loss: 0.5761 - accuracy: 0.7273 - auc: 0.7539\n",
            "Epoch 13/20\n",
            "804/804 [==============================] - 2s 2ms/step - loss: 0.5759 - accuracy: 0.7279 - auc: 0.7544\n",
            "Epoch 14/20\n",
            "804/804 [==============================] - 2s 2ms/step - loss: 0.5756 - accuracy: 0.7274 - auc: 0.7554\n",
            "Epoch 15/20\n",
            "804/804 [==============================] - 2s 2ms/step - loss: 0.5753 - accuracy: 0.7273 - auc: 0.7558\n",
            "Epoch 16/20\n",
            "804/804 [==============================] - 2s 2ms/step - loss: 0.5748 - accuracy: 0.7273 - auc: 0.7580\n",
            "Epoch 17/20\n",
            "804/804 [==============================] - 2s 2ms/step - loss: 0.5747 - accuracy: 0.7278 - auc: 0.7572\n",
            "Epoch 18/20\n",
            "804/804 [==============================] - 2s 2ms/step - loss: 0.5746 - accuracy: 0.7280 - auc: 0.7582\n",
            "Epoch 19/20\n",
            "804/804 [==============================] - 2s 2ms/step - loss: 0.5741 - accuracy: 0.7281 - auc: 0.7598\n",
            "Epoch 20/20\n",
            "804/804 [==============================] - 2s 2ms/step - loss: 0.5740 - accuracy: 0.7276 - auc: 0.7599\n"
          ]
        }
      ],
      "source": [
        "# Train the model\n",
        "fit_output = nn3.fit(X_train_scaled_2, y_train_2, epochs=20)"
      ]
    },
    {
      "cell_type": "code",
      "execution_count": 24,
      "metadata": {
        "colab": {
          "base_uri": "https://localhost:8080/"
        },
        "id": "OjbPgL4FN463",
        "outputId": "d4621497-ed56-4c4c-d50b-dc1d76accd18"
      },
      "outputs": [
        {
          "output_type": "stream",
          "name": "stdout",
          "text": [
            "268/268 - 1s - loss: 0.5818 - accuracy: 0.7201 - auc: 0.7566 - 588ms/epoch - 2ms/step\n",
            "Loss: 0.5817957520484924, Accuracy: 0.7201166152954102, AUC: 0.7566041946411133\n"
          ]
        }
      ],
      "source": [
        "# Evaluate the model using the test data\n",
        "model_loss, model_accuracy, model_AUC = nn3.evaluate(X_test_scaled_2,y_test_2,verbose=2)\n",
        "print(f\"Loss: {model_loss}, Accuracy: {model_accuracy}, AUC: {model_AUC}\")"
      ]
    },
    {
      "cell_type": "markdown",
      "metadata": {
        "id": "-Bn-Ecln3GtM"
      },
      "source": [
        " Increasing model complexity of new model"
      ]
    },
    {
      "cell_type": "code",
      "execution_count": 25,
      "metadata": {
        "colab": {
          "base_uri": "https://localhost:8080/"
        },
        "id": "WRTgPfNz2_Tl",
        "outputId": "6dc34928-766f-4c31-f1d6-9db8b9e16e4d"
      },
      "outputs": [
        {
          "output_type": "stream",
          "name": "stdout",
          "text": [
            "Model: \"sequential_3\"\n",
            "_________________________________________________________________\n",
            " Layer (type)                Output Shape              Param #   \n",
            "=================================================================\n",
            " dense_20 (Dense)            (None, 15)                750       \n",
            "                                                                 \n",
            " dense_21 (Dense)            (None, 15)                240       \n",
            "                                                                 \n",
            " dense_22 (Dense)            (None, 15)                240       \n",
            "                                                                 \n",
            " dense_23 (Dense)            (None, 10)                160       \n",
            "                                                                 \n",
            " dense_24 (Dense)            (None, 10)                110       \n",
            "                                                                 \n",
            " dense_25 (Dense)            (None, 1)                 11        \n",
            "                                                                 \n",
            "=================================================================\n",
            "Total params: 1,511\n",
            "Trainable params: 1,511\n",
            "Non-trainable params: 0\n",
            "_________________________________________________________________\n"
          ]
        }
      ],
      "source": [
        "# Define the model - deep neural net, i.e., the number of input features and hidden nodes for each layer.\n",
        "nn4 = tf.keras.models.Sequential()\n",
        "\n",
        "# First hidden layer\n",
        "nn4.add(tf.keras.layers.Dense(units=15, activation=\"sigmoid\", input_dim=49))\n",
        "\n",
        "# Second hidden layer\n",
        "nn4.add(tf.keras.layers.Dense(units=15, activation=\"sigmoid\"))\n",
        "nn4.add(tf.keras.layers.Dense(units=15, activation=\"sigmoid\"))\n",
        "nn4.add(tf.keras.layers.Dense(units=10, activation=\"sigmoid\"))\n",
        "nn4.add(tf.keras.layers.Dense(units=10, activation=\"sigmoid\"))\n",
        "\n",
        "# Output layer\n",
        "nn4.add(tf.keras.layers.Dense(units=1, activation=\"sigmoid\"))\n",
        "\n",
        "# Check the structure of the model\n",
        "nn4.summary()"
      ]
    },
    {
      "cell_type": "code",
      "execution_count": 26,
      "metadata": {
        "colab": {
          "base_uri": "https://localhost:8080/"
        },
        "id": "v5lv2qp13mEF",
        "outputId": "b4e82943-7d09-4f33-9a38-5e3d71076642"
      },
      "outputs": [
        {
          "output_type": "stream",
          "name": "stdout",
          "text": [
            "Epoch 1/20\n",
            "804/804 [==============================] - 3s 2ms/step - loss: 0.6374 - accuracy: 0.6457 - auc: 0.6973\n",
            "Epoch 2/20\n",
            "804/804 [==============================] - 2s 2ms/step - loss: 0.5744 - accuracy: 0.7297 - auc: 0.7538\n",
            "Epoch 3/20\n",
            "804/804 [==============================] - 2s 2ms/step - loss: 0.5727 - accuracy: 0.7301 - auc: 0.7572\n",
            "Epoch 4/20\n",
            "804/804 [==============================] - 2s 2ms/step - loss: 0.5721 - accuracy: 0.7310 - auc: 0.7587\n",
            "Epoch 5/20\n",
            "804/804 [==============================] - 2s 2ms/step - loss: 0.5717 - accuracy: 0.7312 - auc: 0.7591\n",
            "Epoch 6/20\n",
            "804/804 [==============================] - 2s 2ms/step - loss: 0.5711 - accuracy: 0.7318 - auc: 0.7612\n",
            "Epoch 7/20\n",
            "804/804 [==============================] - 2s 2ms/step - loss: 0.5708 - accuracy: 0.7320 - auc: 0.7619\n",
            "Epoch 8/20\n",
            "804/804 [==============================] - 2s 2ms/step - loss: 0.5705 - accuracy: 0.7315 - auc: 0.7617\n",
            "Epoch 9/20\n",
            "804/804 [==============================] - 2s 2ms/step - loss: 0.5699 - accuracy: 0.7308 - auc: 0.7637\n",
            "Epoch 10/20\n",
            "804/804 [==============================] - 2s 2ms/step - loss: 0.5695 - accuracy: 0.7313 - auc: 0.7636\n",
            "Epoch 11/20\n",
            "804/804 [==============================] - 2s 3ms/step - loss: 0.5686 - accuracy: 0.7318 - auc: 0.7650\n",
            "Epoch 12/20\n",
            "804/804 [==============================] - 2s 3ms/step - loss: 0.5683 - accuracy: 0.7325 - auc: 0.7653\n",
            "Epoch 13/20\n",
            "804/804 [==============================] - 2s 2ms/step - loss: 0.5675 - accuracy: 0.7322 - auc: 0.7681\n",
            "Epoch 14/20\n",
            "804/804 [==============================] - 2s 2ms/step - loss: 0.5662 - accuracy: 0.7322 - auc: 0.7719\n",
            "Epoch 15/20\n",
            "804/804 [==============================] - 3s 3ms/step - loss: 0.5637 - accuracy: 0.7317 - auc: 0.7768\n",
            "Epoch 16/20\n",
            "804/804 [==============================] - 2s 3ms/step - loss: 0.5611 - accuracy: 0.7332 - auc: 0.7798\n",
            "Epoch 17/20\n",
            "804/804 [==============================] - 2s 3ms/step - loss: 0.5580 - accuracy: 0.7334 - auc: 0.7821\n",
            "Epoch 18/20\n",
            "804/804 [==============================] - 2s 3ms/step - loss: 0.5556 - accuracy: 0.7323 - auc: 0.7836\n",
            "Epoch 19/20\n",
            "804/804 [==============================] - 3s 3ms/step - loss: 0.5538 - accuracy: 0.7324 - auc: 0.7849\n",
            "Epoch 20/20\n",
            "804/804 [==============================] - 3s 3ms/step - loss: 0.5528 - accuracy: 0.7322 - auc: 0.7853\n"
          ]
        }
      ],
      "source": [
        "# Compile the model\n",
        "nn4.compile(loss=\"binary_crossentropy\", optimizer=\"adam\", metrics=[\"accuracy\", \"AUC\"],steps_per_execution=None)\n",
        "# Train the model\n",
        "fit_output = nn4.fit(X_train_scaled, y_train, epochs=20)"
      ]
    },
    {
      "cell_type": "code",
      "execution_count": 27,
      "metadata": {
        "colab": {
          "base_uri": "https://localhost:8080/"
        },
        "id": "gLNQ6M6235xN",
        "outputId": "75facdef-1df8-4b62-fdf5-e15318416c5b"
      },
      "outputs": [
        {
          "output_type": "stream",
          "name": "stdout",
          "text": [
            "268/268 - 1s - loss: 0.5604 - accuracy: 0.7257 - auc: 0.7784 - 587ms/epoch - 2ms/step\n",
            "Loss: 0.5604339241981506, Accuracy: 0.7257142663002014, AUC: 0.7783678770065308\n"
          ]
        }
      ],
      "source": [
        "# Evaluate the model using the test data\n",
        "model_loss, model_accuracy, model_AUC = nn4.evaluate(X_test_scaled,y_test,verbose=2)\n",
        "print(f\"Loss: {model_loss}, Accuracy: {model_accuracy}, AUC: {model_AUC}\")"
      ]
    },
    {
      "cell_type": "code",
      "execution_count": 28,
      "metadata": {
        "id": "xyvHk5nQDXWW"
      },
      "outputs": [],
      "source": [
        "# Save models as HDF5\n",
        "nn1.save('AlphabetSoupCharity_optimization_1.h5')\n",
        "nn2.save('AlphabetSoupCharity_optimization_2.h5')\n",
        "nn3.save('AlphabetSoupCharity_optimization_3.h5')\n",
        "nn4.save('AlphabetSoupCharity_optimization_4.h5')"
      ]
    }
  ],
  "metadata": {
    "colab": {
      "name": "AlphabetSoupCharity_Optimization.ipynb",
      "provenance": [],
      "collapsed_sections": []
    },
    "kernelspec": {
      "display_name": "Python 3",
      "language": "python",
      "name": "python3"
    },
    "language_info": {
      "codemirror_mode": {
        "name": "ipython",
        "version": 3
      },
      "file_extension": ".py",
      "mimetype": "text/x-python",
      "name": "python",
      "nbconvert_exporter": "python",
      "pygments_lexer": "ipython3",
      "version": "3.8.8"
    }
  },
  "nbformat": 4,
  "nbformat_minor": 0
}